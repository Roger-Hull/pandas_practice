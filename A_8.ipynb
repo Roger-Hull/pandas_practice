{
 "cells": [
  {
   "cell_type": "code",
   "execution_count": 6,
   "id": "0f70a739-9b3d-41c5-92ea-2151dc5b3a34",
   "metadata": {},
   "outputs": [],
   "source": [
    "# Importing dependancies \n",
    "import pandas as pd\n",
    "from pathlib import Path\n",
    "import numpy as np"
   ]
  },
  {
   "cell_type": "code",
   "execution_count": 8,
   "id": "80be072e-b985-4a5d-8f54-eba1ed039c0a",
   "metadata": {},
   "outputs": [],
   "source": [
    "tsla = pd.read_csv('TSLA.csv')"
   ]
  },
  {
   "cell_type": "code",
   "execution_count": 9,
   "id": "4f11a5c9-bd1c-4577-bc67-0a4d88b4a0d2",
   "metadata": {},
   "outputs": [
    {
     "data": {
      "text/html": [
       "<div>\n",
       "<style scoped>\n",
       "    .dataframe tbody tr th:only-of-type {\n",
       "        vertical-align: middle;\n",
       "    }\n",
       "\n",
       "    .dataframe tbody tr th {\n",
       "        vertical-align: top;\n",
       "    }\n",
       "\n",
       "    .dataframe thead th {\n",
       "        text-align: right;\n",
       "    }\n",
       "</style>\n",
       "<table border=\"1\" class=\"dataframe\">\n",
       "  <thead>\n",
       "    <tr style=\"text-align: right;\">\n",
       "      <th></th>\n",
       "      <th>Unnamed: 0</th>\n",
       "      <th>Unnamed: 1</th>\n",
       "    </tr>\n",
       "  </thead>\n",
       "  <tbody>\n",
       "    <tr>\n",
       "      <th>0</th>\n",
       "      <td>Date</td>\n",
       "      <td>Close</td>\n",
       "    </tr>\n",
       "    <tr>\n",
       "      <th>1</th>\n",
       "      <td>02/12/2021 16:00:00</td>\n",
       "      <td>1084.6</td>\n",
       "    </tr>\n",
       "    <tr>\n",
       "      <th>2</th>\n",
       "      <td>03/12/2021 16:00:00</td>\n",
       "      <td>1014.97</td>\n",
       "    </tr>\n",
       "    <tr>\n",
       "      <th>3</th>\n",
       "      <td>06/12/2021 16:00:00</td>\n",
       "      <td>1009.01</td>\n",
       "    </tr>\n",
       "    <tr>\n",
       "      <th>4</th>\n",
       "      <td>07/12/2021 16:00:00</td>\n",
       "      <td>1051.75</td>\n",
       "    </tr>\n",
       "  </tbody>\n",
       "</table>\n",
       "</div>"
      ],
      "text/plain": [
       "            Unnamed: 0 Unnamed: 1\n",
       "0                 Date      Close\n",
       "1  02/12/2021 16:00:00     1084.6\n",
       "2  03/12/2021 16:00:00    1014.97\n",
       "3  06/12/2021 16:00:00    1009.01\n",
       "4  07/12/2021 16:00:00    1051.75"
      ]
     },
     "execution_count": 9,
     "metadata": {},
     "output_type": "execute_result"
    }
   ],
   "source": [
    "tsla.head()"
   ]
  },
  {
   "cell_type": "code",
   "execution_count": 10,
   "id": "d0606cf9-1827-431a-b36b-6971935a6284",
   "metadata": {},
   "outputs": [
    {
     "data": {
      "text/html": [
       "<div>\n",
       "<style scoped>\n",
       "    .dataframe tbody tr th:only-of-type {\n",
       "        vertical-align: middle;\n",
       "    }\n",
       "\n",
       "    .dataframe tbody tr th {\n",
       "        vertical-align: top;\n",
       "    }\n",
       "\n",
       "    .dataframe thead th {\n",
       "        text-align: right;\n",
       "    }\n",
       "</style>\n",
       "<table border=\"1\" class=\"dataframe\">\n",
       "  <thead>\n",
       "    <tr style=\"text-align: right;\">\n",
       "      <th></th>\n",
       "      <th>Unnamed: 0</th>\n",
       "      <th>Unnamed: 1</th>\n",
       "    </tr>\n",
       "  </thead>\n",
       "  <tbody>\n",
       "    <tr>\n",
       "      <th>count</th>\n",
       "      <td>69</td>\n",
       "      <td>69</td>\n",
       "    </tr>\n",
       "    <tr>\n",
       "      <th>unique</th>\n",
       "      <td>69</td>\n",
       "      <td>69</td>\n",
       "    </tr>\n",
       "    <tr>\n",
       "      <th>top</th>\n",
       "      <td>Date</td>\n",
       "      <td>Close</td>\n",
       "    </tr>\n",
       "    <tr>\n",
       "      <th>freq</th>\n",
       "      <td>1</td>\n",
       "      <td>1</td>\n",
       "    </tr>\n",
       "  </tbody>\n",
       "</table>\n",
       "</div>"
      ],
      "text/plain": [
       "       Unnamed: 0 Unnamed: 1\n",
       "count          69         69\n",
       "unique         69         69\n",
       "top          Date      Close\n",
       "freq            1          1"
      ]
     },
     "execution_count": 10,
     "metadata": {},
     "output_type": "execute_result"
    }
   ],
   "source": [
    "tsla.describe()"
   ]
  },
  {
   "cell_type": "code",
   "execution_count": 12,
   "id": "f905f8fb-cd6b-48c7-9520-667cfb5b2181",
   "metadata": {},
   "outputs": [
    {
     "data": {
      "text/plain": [
       "Unnamed: 0    object\n",
       "Unnamed: 1    object\n",
       "dtype: object"
      ]
     },
     "execution_count": 12,
     "metadata": {},
     "output_type": "execute_result"
    }
   ],
   "source": [
    "tsla.dtypes"
   ]
  },
  {
   "cell_type": "code",
   "execution_count": 15,
   "id": "557e5039-29f9-4954-81e0-ff6de89c5f24",
   "metadata": {},
   "outputs": [
    {
     "data": {
      "text/plain": [
       "RangeIndex(start=0, stop=69, step=1)"
      ]
     },
     "execution_count": 15,
     "metadata": {},
     "output_type": "execute_result"
    }
   ],
   "source": [
    "tsla.index"
   ]
  },
  {
   "cell_type": "code",
   "execution_count": 16,
   "id": "69b00d95-2f38-4935-9f76-0f08f285eda7",
   "metadata": {},
   "outputs": [
    {
     "data": {
      "text/plain": [
       "Index(['Unnamed: 0', 'Unnamed: 1'], dtype='object')"
      ]
     },
     "execution_count": 16,
     "metadata": {},
     "output_type": "execute_result"
    }
   ],
   "source": [
    "tsla.columns"
   ]
  },
  {
   "cell_type": "code",
   "execution_count": 17,
   "id": "1b93180f-3943-4852-8e72-9e8effb8fbbe",
   "metadata": {},
   "outputs": [
    {
     "data": {
      "text/html": [
       "<div>\n",
       "<style scoped>\n",
       "    .dataframe tbody tr th:only-of-type {\n",
       "        vertical-align: middle;\n",
       "    }\n",
       "\n",
       "    .dataframe tbody tr th {\n",
       "        vertical-align: top;\n",
       "    }\n",
       "\n",
       "    .dataframe thead th {\n",
       "        text-align: right;\n",
       "    }\n",
       "</style>\n",
       "<table border=\"1\" class=\"dataframe\">\n",
       "  <thead>\n",
       "    <tr style=\"text-align: right;\">\n",
       "      <th></th>\n",
       "      <th>Unnamed: 0</th>\n",
       "      <th>Unnamed: 1</th>\n",
       "    </tr>\n",
       "  </thead>\n",
       "  <tbody>\n",
       "    <tr>\n",
       "      <th>0</th>\n",
       "      <td>Date</td>\n",
       "      <td>Close</td>\n",
       "    </tr>\n",
       "    <tr>\n",
       "      <th>1</th>\n",
       "      <td>02/12/2021 16:00:00</td>\n",
       "      <td>1084.6</td>\n",
       "    </tr>\n",
       "    <tr>\n",
       "      <th>2</th>\n",
       "      <td>03/12/2021 16:00:00</td>\n",
       "      <td>1014.97</td>\n",
       "    </tr>\n",
       "    <tr>\n",
       "      <th>3</th>\n",
       "      <td>06/12/2021 16:00:00</td>\n",
       "      <td>1009.01</td>\n",
       "    </tr>\n",
       "    <tr>\n",
       "      <th>4</th>\n",
       "      <td>07/12/2021 16:00:00</td>\n",
       "      <td>1051.75</td>\n",
       "    </tr>\n",
       "  </tbody>\n",
       "</table>\n",
       "</div>"
      ],
      "text/plain": [
       "            Unnamed: 0 Unnamed: 1\n",
       "0                 Date      Close\n",
       "1  02/12/2021 16:00:00     1084.6\n",
       "2  03/12/2021 16:00:00    1014.97\n",
       "3  06/12/2021 16:00:00    1009.01\n",
       "4  07/12/2021 16:00:00    1051.75"
      ]
     },
     "execution_count": 17,
     "metadata": {},
     "output_type": "execute_result"
    }
   ],
   "source": [
    "tsla = pd.DataFrame(tsla)\n",
    "tsla.head()"
   ]
  },
  {
   "cell_type": "code",
   "execution_count": 18,
   "id": "ff8b5f08-070b-4fcf-9e70-93bed0118a86",
   "metadata": {},
   "outputs": [],
   "source": [
    "tsladf = tsla.iloc[1:]"
   ]
  },
  {
   "cell_type": "code",
   "execution_count": 29,
   "id": "0b5fab22-b22d-42b3-b85a-0f42615342d2",
   "metadata": {},
   "outputs": [
    {
     "data": {
      "text/html": [
       "<div>\n",
       "<style scoped>\n",
       "    .dataframe tbody tr th:only-of-type {\n",
       "        vertical-align: middle;\n",
       "    }\n",
       "\n",
       "    .dataframe tbody tr th {\n",
       "        vertical-align: top;\n",
       "    }\n",
       "\n",
       "    .dataframe thead th {\n",
       "        text-align: right;\n",
       "    }\n",
       "</style>\n",
       "<table border=\"1\" class=\"dataframe\">\n",
       "  <thead>\n",
       "    <tr style=\"text-align: right;\">\n",
       "      <th></th>\n",
       "      <th>Date</th>\n",
       "      <th>Closing Price</th>\n",
       "    </tr>\n",
       "  </thead>\n",
       "  <tbody>\n",
       "    <tr>\n",
       "      <th>1</th>\n",
       "      <td>02/12/2021 16:00:00</td>\n",
       "      <td>1084.6</td>\n",
       "    </tr>\n",
       "    <tr>\n",
       "      <th>2</th>\n",
       "      <td>03/12/2021 16:00:00</td>\n",
       "      <td>1014.97</td>\n",
       "    </tr>\n",
       "    <tr>\n",
       "      <th>3</th>\n",
       "      <td>06/12/2021 16:00:00</td>\n",
       "      <td>1009.01</td>\n",
       "    </tr>\n",
       "    <tr>\n",
       "      <th>4</th>\n",
       "      <td>07/12/2021 16:00:00</td>\n",
       "      <td>1051.75</td>\n",
       "    </tr>\n",
       "    <tr>\n",
       "      <th>5</th>\n",
       "      <td>08/12/2021 16:00:00</td>\n",
       "      <td>1068.96</td>\n",
       "    </tr>\n",
       "  </tbody>\n",
       "</table>\n",
       "</div>"
      ],
      "text/plain": [
       "                  Date Closing Price\n",
       "1  02/12/2021 16:00:00        1084.6\n",
       "2  03/12/2021 16:00:00       1014.97\n",
       "3  06/12/2021 16:00:00       1009.01\n",
       "4  07/12/2021 16:00:00       1051.75\n",
       "5  08/12/2021 16:00:00       1068.96"
      ]
     },
     "execution_count": 29,
     "metadata": {},
     "output_type": "execute_result"
    }
   ],
   "source": [
    "tsladf.head()"
   ]
  },
  {
   "cell_type": "code",
   "execution_count": 23,
   "id": "f26d40f7-8b4f-4e4d-bebb-8f1f81d6e1da",
   "metadata": {},
   "outputs": [],
   "source": [
    "tsladf = tsladf.rename(columns={\"Unnamed: 0\": \"Date\", \"Unnamed: 1\": \"Closing Price\"})"
   ]
  },
  {
   "cell_type": "code",
   "execution_count": 24,
   "id": "6fb24bb2-8e05-4cba-894a-44775f849cce",
   "metadata": {},
   "outputs": [
    {
     "data": {
      "text/plain": [
       "Date             object\n",
       "Closing Price    object\n",
       "dtype: object"
      ]
     },
     "execution_count": 24,
     "metadata": {},
     "output_type": "execute_result"
    }
   ],
   "source": [
    "tsladf.dtypes"
   ]
  },
  {
   "cell_type": "code",
   "execution_count": 33,
   "id": "6222fb35-c6ab-4b52-b2e9-bb330d525ab1",
   "metadata": {},
   "outputs": [],
   "source": [
    "tsladf[\"Date\"]= pd.to_datetime(tsladf[\"Date\"])"
   ]
  },
  {
   "cell_type": "code",
   "execution_count": 35,
   "id": "2bf76014-d161-4cc3-9a95-ab0dfdb7e5fe",
   "metadata": {},
   "outputs": [
    {
     "name": "stdout",
     "output_type": "stream",
     "text": [
      "<class 'pandas.core.frame.DataFrame'>\n",
      "RangeIndex: 68 entries, 1 to 68\n",
      "Data columns (total 2 columns):\n",
      " #   Column         Non-Null Count  Dtype         \n",
      "---  ------         --------------  -----         \n",
      " 0   Date           68 non-null     datetime64[ns]\n",
      " 1   Closing Price  68 non-null     object        \n",
      "dtypes: datetime64[ns](1), object(1)\n",
      "memory usage: 1.2+ KB\n"
     ]
    }
   ],
   "source": [
    "tsladf.info()"
   ]
  },
  {
   "cell_type": "code",
   "execution_count": 36,
   "id": "00b6d9b6-b662-40ff-b17c-6659ca13afa8",
   "metadata": {},
   "outputs": [
    {
     "data": {
      "text/html": [
       "<div>\n",
       "<style scoped>\n",
       "    .dataframe tbody tr th:only-of-type {\n",
       "        vertical-align: middle;\n",
       "    }\n",
       "\n",
       "    .dataframe tbody tr th {\n",
       "        vertical-align: top;\n",
       "    }\n",
       "\n",
       "    .dataframe thead th {\n",
       "        text-align: right;\n",
       "    }\n",
       "</style>\n",
       "<table border=\"1\" class=\"dataframe\">\n",
       "  <thead>\n",
       "    <tr style=\"text-align: right;\">\n",
       "      <th></th>\n",
       "      <th>Date</th>\n",
       "      <th>Closing Price</th>\n",
       "    </tr>\n",
       "  </thead>\n",
       "  <tbody>\n",
       "    <tr>\n",
       "      <th>1</th>\n",
       "      <td>2021-02-12 16:00:00</td>\n",
       "      <td>1084.6</td>\n",
       "    </tr>\n",
       "    <tr>\n",
       "      <th>2</th>\n",
       "      <td>2021-03-12 16:00:00</td>\n",
       "      <td>1014.97</td>\n",
       "    </tr>\n",
       "    <tr>\n",
       "      <th>3</th>\n",
       "      <td>2021-06-12 16:00:00</td>\n",
       "      <td>1009.01</td>\n",
       "    </tr>\n",
       "    <tr>\n",
       "      <th>4</th>\n",
       "      <td>2021-07-12 16:00:00</td>\n",
       "      <td>1051.75</td>\n",
       "    </tr>\n",
       "    <tr>\n",
       "      <th>5</th>\n",
       "      <td>2021-08-12 16:00:00</td>\n",
       "      <td>1068.96</td>\n",
       "    </tr>\n",
       "  </tbody>\n",
       "</table>\n",
       "</div>"
      ],
      "text/plain": [
       "                 Date Closing Price\n",
       "1 2021-02-12 16:00:00        1084.6\n",
       "2 2021-03-12 16:00:00       1014.97\n",
       "3 2021-06-12 16:00:00       1009.01\n",
       "4 2021-07-12 16:00:00       1051.75\n",
       "5 2021-08-12 16:00:00       1068.96"
      ]
     },
     "execution_count": 36,
     "metadata": {},
     "output_type": "execute_result"
    }
   ],
   "source": [
    "tsladf.head()"
   ]
  },
  {
   "cell_type": "code",
   "execution_count": 37,
   "id": "36e41cd2-9072-4c93-a1de-424e8f8fdb5f",
   "metadata": {},
   "outputs": [],
   "source": [
    "tsladf['Date'] = tsladf['Date'].dt.strftime('%m/%d/%Y')\n"
   ]
  },
  {
   "cell_type": "code",
   "execution_count": 38,
   "id": "04fd3a45-8a7e-455f-89bd-8ff97db5113f",
   "metadata": {},
   "outputs": [
    {
     "name": "stdout",
     "output_type": "stream",
     "text": [
      "<class 'pandas.core.frame.DataFrame'>\n",
      "RangeIndex: 68 entries, 1 to 68\n",
      "Data columns (total 2 columns):\n",
      " #   Column         Non-Null Count  Dtype \n",
      "---  ------         --------------  ----- \n",
      " 0   Date           68 non-null     object\n",
      " 1   Closing Price  68 non-null     object\n",
      "dtypes: object(2)\n",
      "memory usage: 1.2+ KB\n"
     ]
    }
   ],
   "source": [
    "tsladf.info()"
   ]
  },
  {
   "cell_type": "code",
   "execution_count": 41,
   "id": "39034059-5d05-4141-a532-2a91e9166624",
   "metadata": {},
   "outputs": [
    {
     "data": {
      "text/html": [
       "<div>\n",
       "<style scoped>\n",
       "    .dataframe tbody tr th:only-of-type {\n",
       "        vertical-align: middle;\n",
       "    }\n",
       "\n",
       "    .dataframe tbody tr th {\n",
       "        vertical-align: top;\n",
       "    }\n",
       "\n",
       "    .dataframe thead th {\n",
       "        text-align: right;\n",
       "    }\n",
       "</style>\n",
       "<table border=\"1\" class=\"dataframe\">\n",
       "  <thead>\n",
       "    <tr style=\"text-align: right;\">\n",
       "      <th></th>\n",
       "      <th>Date</th>\n",
       "      <th>Closing Price</th>\n",
       "    </tr>\n",
       "  </thead>\n",
       "  <tbody>\n",
       "    <tr>\n",
       "      <th>1</th>\n",
       "      <td>02/12/2021</td>\n",
       "      <td>1084.6</td>\n",
       "    </tr>\n",
       "    <tr>\n",
       "      <th>2</th>\n",
       "      <td>03/12/2021</td>\n",
       "      <td>1014.97</td>\n",
       "    </tr>\n",
       "    <tr>\n",
       "      <th>3</th>\n",
       "      <td>06/12/2021</td>\n",
       "      <td>1009.01</td>\n",
       "    </tr>\n",
       "    <tr>\n",
       "      <th>4</th>\n",
       "      <td>07/12/2021</td>\n",
       "      <td>1051.75</td>\n",
       "    </tr>\n",
       "    <tr>\n",
       "      <th>5</th>\n",
       "      <td>08/12/2021</td>\n",
       "      <td>1068.96</td>\n",
       "    </tr>\n",
       "  </tbody>\n",
       "</table>\n",
       "</div>"
      ],
      "text/plain": [
       "         Date Closing Price\n",
       "1  02/12/2021        1084.6\n",
       "2  03/12/2021       1014.97\n",
       "3  06/12/2021       1009.01\n",
       "4  07/12/2021       1051.75\n",
       "5  08/12/2021       1068.96"
      ]
     },
     "execution_count": 41,
     "metadata": {},
     "output_type": "execute_result"
    }
   ],
   "source": [
    "tsladf.head()"
   ]
  },
  {
   "cell_type": "code",
   "execution_count": 42,
   "id": "2b597b02-1727-4e04-b7e5-177468d6d9f2",
   "metadata": {},
   "outputs": [],
   "source": [
    "tsladf[\"Date\"]= pd.to_datetime(tsladf[\"Date\"])"
   ]
  },
  {
   "cell_type": "code",
   "execution_count": 43,
   "id": "edfa6602-556e-4225-8fe2-08b6e9f31c59",
   "metadata": {},
   "outputs": [
    {
     "data": {
      "text/html": [
       "<div>\n",
       "<style scoped>\n",
       "    .dataframe tbody tr th:only-of-type {\n",
       "        vertical-align: middle;\n",
       "    }\n",
       "\n",
       "    .dataframe tbody tr th {\n",
       "        vertical-align: top;\n",
       "    }\n",
       "\n",
       "    .dataframe thead th {\n",
       "        text-align: right;\n",
       "    }\n",
       "</style>\n",
       "<table border=\"1\" class=\"dataframe\">\n",
       "  <thead>\n",
       "    <tr style=\"text-align: right;\">\n",
       "      <th></th>\n",
       "      <th>Date</th>\n",
       "      <th>Closing Price</th>\n",
       "    </tr>\n",
       "  </thead>\n",
       "  <tbody>\n",
       "    <tr>\n",
       "      <th>1</th>\n",
       "      <td>2021-02-12</td>\n",
       "      <td>1084.6</td>\n",
       "    </tr>\n",
       "    <tr>\n",
       "      <th>2</th>\n",
       "      <td>2021-03-12</td>\n",
       "      <td>1014.97</td>\n",
       "    </tr>\n",
       "    <tr>\n",
       "      <th>3</th>\n",
       "      <td>2021-06-12</td>\n",
       "      <td>1009.01</td>\n",
       "    </tr>\n",
       "    <tr>\n",
       "      <th>4</th>\n",
       "      <td>2021-07-12</td>\n",
       "      <td>1051.75</td>\n",
       "    </tr>\n",
       "    <tr>\n",
       "      <th>5</th>\n",
       "      <td>2021-08-12</td>\n",
       "      <td>1068.96</td>\n",
       "    </tr>\n",
       "  </tbody>\n",
       "</table>\n",
       "</div>"
      ],
      "text/plain": [
       "        Date Closing Price\n",
       "1 2021-02-12        1084.6\n",
       "2 2021-03-12       1014.97\n",
       "3 2021-06-12       1009.01\n",
       "4 2021-07-12       1051.75\n",
       "5 2021-08-12       1068.96"
      ]
     },
     "execution_count": 43,
     "metadata": {},
     "output_type": "execute_result"
    }
   ],
   "source": [
    "tsladf.head()"
   ]
  },
  {
   "cell_type": "code",
   "execution_count": 44,
   "id": "f7eeb57e-d477-4252-b090-197eebb29bbe",
   "metadata": {},
   "outputs": [
    {
     "name": "stdout",
     "output_type": "stream",
     "text": [
      "<class 'pandas.core.frame.DataFrame'>\n",
      "RangeIndex: 68 entries, 1 to 68\n",
      "Data columns (total 2 columns):\n",
      " #   Column         Non-Null Count  Dtype         \n",
      "---  ------         --------------  -----         \n",
      " 0   Date           68 non-null     datetime64[ns]\n",
      " 1   Closing Price  68 non-null     object        \n",
      "dtypes: datetime64[ns](1), object(1)\n",
      "memory usage: 1.2+ KB\n"
     ]
    }
   ],
   "source": [
    "tsladf.info()"
   ]
  },
  {
   "cell_type": "code",
   "execution_count": 46,
   "id": "736d6d26-8ff1-47a0-832f-b18223ca3a65",
   "metadata": {},
   "outputs": [],
   "source": [
    "tsladf['Closing Price'] = pd.to_numeric(tsladf['Closing Price'])"
   ]
  },
  {
   "cell_type": "code",
   "execution_count": 47,
   "id": "da888098-5613-45a8-b49d-697173b8941a",
   "metadata": {},
   "outputs": [
    {
     "name": "stdout",
     "output_type": "stream",
     "text": [
      "<class 'pandas.core.frame.DataFrame'>\n",
      "RangeIndex: 68 entries, 1 to 68\n",
      "Data columns (total 2 columns):\n",
      " #   Column         Non-Null Count  Dtype         \n",
      "---  ------         --------------  -----         \n",
      " 0   Date           68 non-null     datetime64[ns]\n",
      " 1   Closing Price  68 non-null     float64       \n",
      "dtypes: datetime64[ns](1), float64(1)\n",
      "memory usage: 1.2 KB\n"
     ]
    }
   ],
   "source": [
    "tsladf.info()"
   ]
  },
  {
   "cell_type": "code",
   "execution_count": 48,
   "id": "e6680917-1ebe-4023-9a54-c9f1289b6be7",
   "metadata": {},
   "outputs": [
    {
     "name": "stdout",
     "output_type": "stream",
     "text": [
      "         Date  Closing Price\n",
      "1  2021-02-12        1084.60\n",
      "2  2021-03-12        1014.97\n",
      "3  2021-06-12        1009.01\n",
      "4  2021-07-12        1051.75\n",
      "5  2021-08-12        1068.96\n",
      "..        ...            ...\n",
      "64 2022-04-03         838.29\n",
      "65 2022-07-03         804.58\n",
      "66 2022-08-03         824.40\n",
      "67 2022-09-03         858.97\n",
      "68 2022-10-03         838.30\n",
      "\n",
      "[68 rows x 2 columns]\n"
     ]
    }
   ],
   "source": [
    "print(tsladf)"
   ]
  },
  {
   "cell_type": "code",
   "execution_count": null,
   "id": "2cfaee92-9f0c-4f8f-908b-14fc6870837e",
   "metadata": {},
   "outputs": [],
   "source": []
  }
 ],
 "metadata": {
  "kernelspec": {
   "display_name": "Python 3 (ipykernel)",
   "language": "python",
   "name": "python3"
  },
  "language_info": {
   "codemirror_mode": {
    "name": "ipython",
    "version": 3
   },
   "file_extension": ".py",
   "mimetype": "text/x-python",
   "name": "python",
   "nbconvert_exporter": "python",
   "pygments_lexer": "ipython3",
   "version": "3.9.7"
  }
 },
 "nbformat": 4,
 "nbformat_minor": 5
}
